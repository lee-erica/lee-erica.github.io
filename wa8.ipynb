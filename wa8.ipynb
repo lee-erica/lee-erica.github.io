{
 "cells": [
  {
   "cell_type": "markdown",
   "metadata": {},
   "source": [
    "## Weekly Assignment 8"
   ]
  },
  {
   "cell_type": "markdown",
   "metadata": {},
   "source": [
    "#### Based on Denver policing data from November, how many vehicular and pedestrian police stops were made in each district?"
   ]
  },
  {
   "cell_type": "code",
   "execution_count": 104,
   "metadata": {},
   "outputs": [],
   "source": [
    "# import libraries\n",
    "import pandas as pd\n",
    "import numpy as np\n",
    "import json\n",
    "import pprint as pprint"
   ]
  },
  {
   "cell_type": "code",
   "execution_count": 105,
   "metadata": {},
   "outputs": [
    {
     "data": {
      "text/html": [
       "<div>\n",
       "<style scoped>\n",
       "    .dataframe tbody tr th:only-of-type {\n",
       "        vertical-align: middle;\n",
       "    }\n",
       "\n",
       "    .dataframe tbody tr th {\n",
       "        vertical-align: top;\n",
       "    }\n",
       "\n",
       "    .dataframe thead th {\n",
       "        text-align: right;\n",
       "    }\n",
       "</style>\n",
       "<table border=\"1\" class=\"dataframe\">\n",
       "  <thead>\n",
       "    <tr style=\"text-align: right;\">\n",
       "      <th></th>\n",
       "      <th>raw_row_number</th>\n",
       "      <th>date</th>\n",
       "      <th>time</th>\n",
       "      <th>location</th>\n",
       "      <th>lat</th>\n",
       "      <th>lng</th>\n",
       "      <th>district</th>\n",
       "      <th>precinct</th>\n",
       "      <th>type</th>\n",
       "      <th>disposition</th>\n",
       "      <th>arrest_made</th>\n",
       "      <th>citation_issued</th>\n",
       "      <th>warning_issued</th>\n",
       "      <th>outcome</th>\n",
       "    </tr>\n",
       "  </thead>\n",
       "  <tbody>\n",
       "    <tr>\n",
       "      <th>0</th>\n",
       "      <td>1</td>\n",
       "      <td>2012-11-13</td>\n",
       "      <td>00:02:22</td>\n",
       "      <td>8500 W CRESTLINE AVE</td>\n",
       "      <td>39.618329</td>\n",
       "      <td>-105.092691</td>\n",
       "      <td>4</td>\n",
       "      <td>423</td>\n",
       "      <td>vehicular</td>\n",
       "      <td>K - Street Check Completed</td>\n",
       "      <td>False</td>\n",
       "      <td>False</td>\n",
       "      <td>False</td>\n",
       "      <td>NaN</td>\n",
       "    </tr>\n",
       "    <tr>\n",
       "      <th>1</th>\n",
       "      <td>16</td>\n",
       "      <td>2012-11-29</td>\n",
       "      <td>00:25:01</td>\n",
       "      <td>8500 W CRESTLINE AVE</td>\n",
       "      <td>39.618329</td>\n",
       "      <td>-105.092691</td>\n",
       "      <td>4</td>\n",
       "      <td>423</td>\n",
       "      <td>vehicular</td>\n",
       "      <td>Party Advised</td>\n",
       "      <td>False</td>\n",
       "      <td>False</td>\n",
       "      <td>False</td>\n",
       "      <td>NaN</td>\n",
       "    </tr>\n",
       "    <tr>\n",
       "      <th>2</th>\n",
       "      <td>72</td>\n",
       "      <td>2012-11-23</td>\n",
       "      <td>22:58:10</td>\n",
       "      <td>4830 S HOLLAND WAY</td>\n",
       "      <td>39.630666</td>\n",
       "      <td>-105.102551</td>\n",
       "      <td>4</td>\n",
       "      <td>423</td>\n",
       "      <td>vehicular</td>\n",
       "      <td>K - Street Check Completed</td>\n",
       "      <td>False</td>\n",
       "      <td>False</td>\n",
       "      <td>False</td>\n",
       "      <td>NaN</td>\n",
       "    </tr>\n",
       "    <tr>\n",
       "      <th>3</th>\n",
       "      <td>121</td>\n",
       "      <td>2012-11-27</td>\n",
       "      <td>17:48:33</td>\n",
       "      <td>4885 S QUEBEC ST</td>\n",
       "      <td>39.626174</td>\n",
       "      <td>-104.904062</td>\n",
       "      <td>3</td>\n",
       "      <td>324</td>\n",
       "      <td>pedestrian</td>\n",
       "      <td>In Service</td>\n",
       "      <td>False</td>\n",
       "      <td>False</td>\n",
       "      <td>False</td>\n",
       "      <td>NaN</td>\n",
       "    </tr>\n",
       "    <tr>\n",
       "      <th>4</th>\n",
       "      <td>138</td>\n",
       "      <td>2012-11-14</td>\n",
       "      <td>23:46:58</td>\n",
       "      <td>W LAYTON AVE / S WADSWORTH BLVD</td>\n",
       "      <td>39.630150</td>\n",
       "      <td>-105.081693</td>\n",
       "      <td>4</td>\n",
       "      <td>423</td>\n",
       "      <td>vehicular</td>\n",
       "      <td>Party Advised</td>\n",
       "      <td>False</td>\n",
       "      <td>False</td>\n",
       "      <td>False</td>\n",
       "      <td>NaN</td>\n",
       "    </tr>\n",
       "  </tbody>\n",
       "</table>\n",
       "</div>"
      ],
      "text/plain": [
       "   raw_row_number        date      time                         location  \\\n",
       "0               1  2012-11-13  00:02:22             8500 W CRESTLINE AVE   \n",
       "1              16  2012-11-29  00:25:01             8500 W CRESTLINE AVE   \n",
       "2              72  2012-11-23  22:58:10               4830 S HOLLAND WAY   \n",
       "3             121  2012-11-27  17:48:33                 4885 S QUEBEC ST   \n",
       "4             138  2012-11-14  23:46:58  W LAYTON AVE / S WADSWORTH BLVD   \n",
       "\n",
       "         lat         lng district precinct        type  \\\n",
       "0  39.618329 -105.092691        4      423   vehicular   \n",
       "1  39.618329 -105.092691        4      423   vehicular   \n",
       "2  39.630666 -105.102551        4      423   vehicular   \n",
       "3  39.626174 -104.904062        3      324  pedestrian   \n",
       "4  39.630150 -105.081693        4      423   vehicular   \n",
       "\n",
       "                  disposition  arrest_made  citation_issued  warning_issued  \\\n",
       "0  K - Street Check Completed        False            False           False   \n",
       "1               Party Advised        False            False           False   \n",
       "2  K - Street Check Completed        False            False           False   \n",
       "3                  In Service        False            False           False   \n",
       "4               Party Advised        False            False           False   \n",
       "\n",
       "  outcome  \n",
       "0     NaN  \n",
       "1     NaN  \n",
       "2     NaN  \n",
       "3     NaN  \n",
       "4     NaN  "
      ]
     },
     "execution_count": 105,
     "metadata": {},
     "output_type": "execute_result"
    }
   ],
   "source": [
    "# read the file in\n",
    "denverdata = pd.read_csv(\"denver-1.nov.csv\")\n",
    "denverdata.head()"
   ]
  },
  {
   "cell_type": "code",
   "execution_count": 106,
   "metadata": {},
   "outputs": [
    {
     "data": {
      "text/plain": [
       "vehicular     4241\n",
       "pedestrian    2124\n",
       "Name: type, dtype: int64"
      ]
     },
     "execution_count": 106,
     "metadata": {},
     "output_type": "execute_result"
    }
   ],
   "source": [
    "denverdata['type'].value_counts()"
   ]
  },
  {
   "cell_type": "code",
   "execution_count": 117,
   "metadata": {
    "scrolled": true
   },
   "outputs": [
    {
     "data": {
      "text/html": [
       "<div>\n",
       "<style scoped>\n",
       "    .dataframe tbody tr th:only-of-type {\n",
       "        vertical-align: middle;\n",
       "    }\n",
       "\n",
       "    .dataframe tbody tr th {\n",
       "        vertical-align: top;\n",
       "    }\n",
       "\n",
       "    .dataframe thead th {\n",
       "        text-align: right;\n",
       "    }\n",
       "</style>\n",
       "<table border=\"1\" class=\"dataframe\">\n",
       "  <thead>\n",
       "    <tr style=\"text-align: right;\">\n",
       "      <th></th>\n",
       "      <th>type</th>\n",
       "      <th>district</th>\n",
       "    </tr>\n",
       "  </thead>\n",
       "  <tbody>\n",
       "    <tr>\n",
       "      <th>0</th>\n",
       "      <td>vehicular</td>\n",
       "      <td>4</td>\n",
       "    </tr>\n",
       "    <tr>\n",
       "      <th>1</th>\n",
       "      <td>vehicular</td>\n",
       "      <td>4</td>\n",
       "    </tr>\n",
       "    <tr>\n",
       "      <th>2</th>\n",
       "      <td>vehicular</td>\n",
       "      <td>4</td>\n",
       "    </tr>\n",
       "    <tr>\n",
       "      <th>3</th>\n",
       "      <td>pedestrian</td>\n",
       "      <td>3</td>\n",
       "    </tr>\n",
       "    <tr>\n",
       "      <th>4</th>\n",
       "      <td>vehicular</td>\n",
       "      <td>4</td>\n",
       "    </tr>\n",
       "  </tbody>\n",
       "</table>\n",
       "</div>"
      ],
      "text/plain": [
       "         type district\n",
       "0   vehicular        4\n",
       "1   vehicular        4\n",
       "2   vehicular        4\n",
       "3  pedestrian        3\n",
       "4   vehicular        4"
      ]
     },
     "execution_count": 117,
     "metadata": {},
     "output_type": "execute_result"
    }
   ],
   "source": [
    "# filter the dataframe for districts and type columns\n",
    "type_df = denverdata[['type','district']]\n",
    "type_df.head() # only show first 5 rows"
   ]
  },
  {
   "cell_type": "code",
   "execution_count": 108,
   "metadata": {},
   "outputs": [
    {
     "data": {
      "text/html": [
       "<div>\n",
       "<style scoped>\n",
       "    .dataframe tbody tr th:only-of-type {\n",
       "        vertical-align: middle;\n",
       "    }\n",
       "\n",
       "    .dataframe tbody tr th {\n",
       "        vertical-align: top;\n",
       "    }\n",
       "\n",
       "    .dataframe thead tr th {\n",
       "        text-align: left;\n",
       "    }\n",
       "\n",
       "    .dataframe thead tr:last-of-type th {\n",
       "        text-align: right;\n",
       "    }\n",
       "</style>\n",
       "<table border=\"1\" class=\"dataframe\">\n",
       "  <thead>\n",
       "    <tr>\n",
       "      <th></th>\n",
       "      <th colspan=\"2\" halign=\"left\">type</th>\n",
       "    </tr>\n",
       "    <tr>\n",
       "      <th>type</th>\n",
       "      <th>pedestrian</th>\n",
       "      <th>vehicular</th>\n",
       "    </tr>\n",
       "    <tr>\n",
       "      <th>district</th>\n",
       "      <th></th>\n",
       "      <th></th>\n",
       "    </tr>\n",
       "  </thead>\n",
       "  <tbody>\n",
       "    <tr>\n",
       "      <th>1</th>\n",
       "      <td>297</td>\n",
       "      <td>861</td>\n",
       "    </tr>\n",
       "    <tr>\n",
       "      <th>2</th>\n",
       "      <td>429</td>\n",
       "      <td>909</td>\n",
       "    </tr>\n",
       "    <tr>\n",
       "      <th>3</th>\n",
       "      <td>211</td>\n",
       "      <td>757</td>\n",
       "    </tr>\n",
       "    <tr>\n",
       "      <th>4</th>\n",
       "      <td>343</td>\n",
       "      <td>815</td>\n",
       "    </tr>\n",
       "    <tr>\n",
       "      <th>5</th>\n",
       "      <td>167</td>\n",
       "      <td>404</td>\n",
       "    </tr>\n",
       "    <tr>\n",
       "      <th>6</th>\n",
       "      <td>631</td>\n",
       "      <td>373</td>\n",
       "    </tr>\n",
       "    <tr>\n",
       "      <th>7</th>\n",
       "      <td>1</td>\n",
       "      <td>1</td>\n",
       "    </tr>\n",
       "    <tr>\n",
       "      <th>None</th>\n",
       "      <td>45</td>\n",
       "      <td>121</td>\n",
       "    </tr>\n",
       "  </tbody>\n",
       "</table>\n",
       "</div>"
      ],
      "text/plain": [
       "               type          \n",
       "type     pedestrian vehicular\n",
       "district                     \n",
       "1               297       861\n",
       "2               429       909\n",
       "3               211       757\n",
       "4               343       815\n",
       "5               167       404\n",
       "6               631       373\n",
       "7                 1         1\n",
       "None             45       121"
      ]
     },
     "execution_count": 108,
     "metadata": {},
     "output_type": "execute_result"
    }
   ],
   "source": [
    "# create a pivot table for counting the types of stops based on the district district \n",
    "type_pivot = pd.pivot_table(type_df,\n",
    "                      index = ['district'],\n",
    "                      columns = ['type'],\n",
    "                      values = ['type'],\n",
    "                      aggfunc = {'type':len}, # aggfunc to len to count the number of rows\n",
    "                      fill_value = 0)\n",
    "\n",
    "type_pivot"
   ]
  },
  {
   "cell_type": "code",
   "execution_count": 109,
   "metadata": {},
   "outputs": [
    {
     "name": "stdout",
     "output_type": "stream",
     "text": [
      "{\"[\"type\",\"pedestrian\"]\":{\"1\":297,\"2\":429,\"3\":211,\"4\":343,\"5\":167,\"6\":631,\"7\":1,\"None\":45},\"[\"type\",\"vehicular\"]\":{\"1\":861,\"2\":909,\"3\":757,\"4\":815,\"5\":404,\"6\":373,\"7\":1,\"None\":121}}\n"
     ]
    }
   ],
   "source": [
    "# convert the pivot table to a .json file format and inspect it\n",
    "json = type_pivot.to_json()\n",
    "print(json)"
   ]
  },
  {
   "cell_type": "code",
   "execution_count": 116,
   "metadata": {},
   "outputs": [],
   "source": [
    "# write it to a .json file on my computer\n",
    "type_pivot.to_json('denverjsonfile.json', orient='columns') "
   ]
  }
 ],
 "metadata": {
  "kernelspec": {
   "display_name": "Python 3",
   "language": "python",
   "name": "python3"
  },
  "language_info": {
   "codemirror_mode": {
    "name": "ipython",
    "version": 3
   },
   "file_extension": ".py",
   "mimetype": "text/x-python",
   "name": "python",
   "nbconvert_exporter": "python",
   "pygments_lexer": "ipython3",
   "version": "3.7.3"
  }
 },
 "nbformat": 4,
 "nbformat_minor": 2
}
